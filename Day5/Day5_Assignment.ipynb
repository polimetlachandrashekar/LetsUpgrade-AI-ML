{
  "nbformat": 4,
  "nbformat_minor": 0,
  "metadata": {
    "colab": {
      "name": "Day5_Assignment.ipynb",
      "provenance": [],
      "collapsed_sections": []
    },
    "kernelspec": {
      "name": "python3",
      "display_name": "Python 3"
    }
  },
  "cells": [
    {
      "cell_type": "markdown",
      "metadata": {
        "id": "06pj1WJL1NKV",
        "colab_type": "text"
      },
      "source": [
        "Question 1 :\n",
        "Write a Python program to find the first 20 non-even prime natural numbers."
      ]
    },
    {
      "cell_type": "code",
      "metadata": {
        "id": "xDS1m4Gz1e8w",
        "colab_type": "code",
        "colab": {
          "base_uri": "https://localhost:8080/",
          "height": 357
        },
        "outputId": "d8c8a0a6-10cb-4027-8330-c907527f9f42"
      },
      "source": [
        "i=3\n",
        "counter = 0\n",
        "while True:\n",
        "    c=0;\n",
        "    for j in range (1, (i+1), 1):\n",
        "        a = i%j\n",
        "        if (a==0):\n",
        "            c = c+1\n",
        "    if (c==2):\n",
        "        '''printing the prime number and \n",
        "        incrementing the count as we found one prime number'''\n",
        "        print (i)\n",
        "        counter = counter + 1\n",
        "        if counter >= 20:\n",
        "            break\n",
        "    i=i+1"
      ],
      "execution_count": 43,
      "outputs": [
        {
          "output_type": "stream",
          "text": [
            "3\n",
            "5\n",
            "7\n",
            "11\n",
            "13\n",
            "17\n",
            "19\n",
            "23\n",
            "29\n",
            "31\n",
            "37\n",
            "41\n",
            "43\n",
            "47\n",
            "53\n",
            "59\n",
            "61\n",
            "67\n",
            "71\n",
            "73\n"
          ],
          "name": "stdout"
        }
      ]
    },
    {
      "cell_type": "markdown",
      "metadata": {
        "id": "zkHKcjkJ1Ncs",
        "colab_type": "text"
      },
      "source": [
        "Question 2 :\n",
        "Write a Python program to implement 15 functions of string"
      ]
    },
    {
      "cell_type": "code",
      "metadata": {
        "id": "Ku5zbBMA1fGC",
        "colab_type": "code",
        "colab": {
          "base_uri": "https://localhost:8080/",
          "height": 289
        },
        "outputId": "dd824832-3ce9-40ca-ee25-baf5fde8129a"
      },
      "source": [
        "s1= \"Hello World\"\n",
        "s2= \"Hi1234\"\n",
        "print(s1.swapcase())\n",
        "print(s1.lower())\n",
        "print(s1.upper())\n",
        "print(s1.isalpha())\n",
        "print(s2.isalnum())\n",
        "print(s1.replace('l','z'))\n",
        "print(s1+s2)\n",
        "print(s1.capitalize())\n",
        "print(s1.center(20))\n",
        "txt =\"Hi how are you how is it going how.\"\n",
        "print(txt.count(\"how\"))\n",
        "print(txt.endswith('.'))\n",
        "print(txt.find('you'))\n",
        "print(txt.index(\"how\"))\n",
        "print(txt.partition(\"how\"))\n",
        "print(txt.rfind(\"how\"))\n",
        "print(txt.rindex(\"how\"))"
      ],
      "execution_count": 33,
      "outputs": [
        {
          "output_type": "stream",
          "text": [
            "hELLO wORLD\n",
            "hello world\n",
            "HELLO WORLD\n",
            "False\n",
            "True\n",
            "Hezzo Worzd\n",
            "Hello WorldHi1234\n",
            "Hello world\n",
            "    Hello World     \n",
            "3\n",
            "True\n",
            "11\n",
            "3\n",
            "('Hi ', 'how', ' are you how is it going how.')\n",
            "31\n",
            "31\n"
          ],
          "name": "stdout"
        }
      ]
    },
    {
      "cell_type": "markdown",
      "metadata": {
        "id": "mxf87Z4f1Nm5",
        "colab_type": "text"
      },
      "source": [
        "Question 3:\n",
        "Write a Python program to check if the given string is a Palindrome or Anagram or None of them.\n",
        "Display the message accordingly to the user."
      ]
    },
    {
      "cell_type": "code",
      "metadata": {
        "id": "nBQ91dRc1fPu",
        "colab_type": "code",
        "colab": {
          "base_uri": "https://localhost:8080/",
          "height": 34
        },
        "outputId": "142138ef-4572-46ed-c21c-92de4de5c899"
      },
      "source": [
        "s1=\"abc\"\n",
        "s=s1[::-1]\n",
        "if (s==s1):\n",
        "  print(\"Given String s1:\",s1,\" is a palindrome\")\n",
        "elif (sorted(s)==sorted(s1)):\n",
        "  print(\"Given String s1:\",s1,\" is anagram\")\n",
        "else :\n",
        "   print(\"Given String s1:\",s1,\" is none of them\")\n",
        "\n"
      ],
      "execution_count": 7,
      "outputs": [
        {
          "output_type": "stream",
          "text": [
            "Given String s1: abc  is anagram\n"
          ],
          "name": "stdout"
        }
      ]
    },
    {
      "cell_type": "markdown",
      "metadata": {
        "id": "c3ZyCmGz1NyU",
        "colab_type": "text"
      },
      "source": [
        "Question 4:\n",
        "Write a Python's user defined function that removes all the additional characters from the string\n",
        "and converts it finally to lower case using built-in lower(). eg: If the string is \"Dr. Darshan Ingle\n",
        "@AI-ML Trainer\", then the output be \"drdarshaningleaimltrainer\"."
      ]
    },
    {
      "cell_type": "code",
      "metadata": {
        "id": "uMa2j9vz1fax",
        "colab_type": "code",
        "colab": {
          "base_uri": "https://localhost:8080/",
          "height": 34
        },
        "outputId": "6dcdcb5a-9931-4bb8-e52f-53452982e6ff"
      },
      "source": [
        "def stringconvrt(str1):\n",
        "  tempstr=''.join(e for e in str1 if e.isalnum())\n",
        "  print(tempstr.lower())\n",
        "\n",
        "#calling the user defined function\n",
        "stringconvrt(\"Dr. Darshan Ingle @AI-ML Trainer\")"
      ],
      "execution_count": 42,
      "outputs": [
        {
          "output_type": "stream",
          "text": [
            "drdarshaningleaimltrainer\n"
          ],
          "name": "stdout"
        }
      ]
    }
  ]
}