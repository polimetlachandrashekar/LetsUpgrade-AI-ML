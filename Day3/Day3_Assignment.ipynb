{
  "nbformat": 4,
  "nbformat_minor": 0,
  "metadata": {
    "colab": {
      "name": "Day3_Assignment.ipynb",
      "provenance": [],
      "collapsed_sections": [],
      "toc_visible": true
    },
    "kernelspec": {
      "name": "python3",
      "display_name": "Python 3"
    }
  },
  "cells": [
    {
      "cell_type": "markdown",
      "metadata": {
        "id": "1KjKEKo5kAxQ",
        "colab_type": "text"
      },
      "source": [
        "Question 1:\n",
        "Write a program to subtract two complex numbers in python"
      ]
    },
    {
      "cell_type": "code",
      "metadata": {
        "id": "6xdel9Stuu5X",
        "colab_type": "code",
        "colab": {
          "base_uri": "https://localhost:8080/",
          "height": 34
        },
        "outputId": "51df98ba-c4ef-468f-efae-ad29cb3c72d8"
      },
      "source": [
        "#Declaring and initializing the 2 variables with the complex numbers\n",
        "a=6+10j\n",
        "b=3+5j\n",
        "#subtracting and printing the initialized complex numbers\n",
        "print(a-b)\n"
      ],
      "execution_count": 3,
      "outputs": [
        {
          "output_type": "stream",
          "text": [
            "(3+5j)\n"
          ],
          "name": "stdout"
        }
      ]
    },
    {
      "cell_type": "markdown",
      "metadata": {
        "id": "NxQUz4umkQog",
        "colab_type": "text"
      },
      "source": [
        "Question 2 :\n",
        "Write a program to find the fourth root of a number.\n"
      ]
    },
    {
      "cell_type": "code",
      "metadata": {
        "id": "wTKpukmOkx1z",
        "colab_type": "code",
        "colab": {
          "base_uri": "https://localhost:8080/",
          "height": 34
        },
        "outputId": "fc750605-bd98-44d2-c3cc-95f188b39491"
      },
      "source": [
        "#Declaring and initializing the variable with the number\n",
        "c=16\n",
        "#printing the fourth root of number\n",
        "print(c**1/4)"
      ],
      "execution_count": 11,
      "outputs": [
        {
          "output_type": "stream",
          "text": [
            "4.0\n"
          ],
          "name": "stdout"
        }
      ]
    },
    {
      "cell_type": "markdown",
      "metadata": {
        "id": "tg60_VmPkROr",
        "colab_type": "text"
      },
      "source": [
        "Question 3:\n",
        "Write a program to swap two numbers in Python with the help of a temporary variable."
      ]
    },
    {
      "cell_type": "code",
      "metadata": {
        "id": "jjbYdh6lkyAi",
        "colab_type": "code",
        "colab": {
          "base_uri": "https://localhost:8080/",
          "height": 51
        },
        "outputId": "3b9ab8b9-70cf-4f33-afa0-a2163ea23f26"
      },
      "source": [
        "#Declaring and initializing the variables\n",
        "x=5\n",
        "y=6\n",
        "print(\"values before swaping X:\",x,\"y:\",y)\n",
        "#Code for swaping two number with temp variable\n",
        "temp=x\n",
        "x=y\n",
        "y=temp\n",
        "# printing the swapped variables\n",
        "print(\"values after swaping X:\",x,\"y:\",y)"
      ],
      "execution_count": 15,
      "outputs": [
        {
          "output_type": "stream",
          "text": [
            "values before swaping X: 5 y: 6\n",
            "values after swaping X: 6 y: 5\n"
          ],
          "name": "stdout"
        }
      ]
    },
    {
      "cell_type": "markdown",
      "metadata": {
        "id": "7yu2C6I5kQ7L",
        "colab_type": "text"
      },
      "source": [
        "Question 4:\n",
        "Write a program to swap two numbers in Python without using a temporary variable.\n"
      ]
    },
    {
      "cell_type": "code",
      "metadata": {
        "id": "FOHWTuL-kygl",
        "colab_type": "code",
        "colab": {
          "base_uri": "https://localhost:8080/",
          "height": 51
        },
        "outputId": "2490167d-051b-47ec-a5fa-072b86fa0024"
      },
      "source": [
        "m=10\n",
        "n=20\n",
        "print(\"values before swaping m:\",m,\"n:\",n)\n",
        "m=m+n\n",
        "n=m-n\n",
        "m=m-n\n",
        "print(\"values after swaping m:\",m,\"n:\",n)"
      ],
      "execution_count": 16,
      "outputs": [
        {
          "output_type": "stream",
          "text": [
            "values before swaping m: 10 n: 20\n",
            "values after swaping m: 20 n: 10\n"
          ],
          "name": "stdout"
        }
      ]
    },
    {
      "cell_type": "markdown",
      "metadata": {
        "id": "41_BlBDjkRl3",
        "colab_type": "text"
      },
      "source": [
        "Question 5:\n",
        "Write a program to convert fahrenheit to kelvin and celsius both.\n"
      ]
    },
    {
      "cell_type": "code",
      "metadata": {
        "id": "BankYDXno3ez",
        "colab_type": "code",
        "colab": {
          "base_uri": "https://localhost:8080/",
          "height": 68
        },
        "outputId": "1f983718-57e8-4ecf-d15d-5b671ac9230f"
      },
      "source": [
        "fahrenheit = float(input(\"Enter temperature in fahrenheit: \"))\n",
        "celsius = (fahrenheit - 32) * 5/9\n",
        "print(\"The celsius value is: \",celsius)\n",
        "Kelvin =273.5 + ((fahrenheit - 32.0) * (5.0/9.0))\n",
        "print(\"The Kelvin value is: \",Kelvin)"
      ],
      "execution_count": 18,
      "outputs": [
        {
          "output_type": "stream",
          "text": [
            "Enter temperature in fahrenheit: 30\n",
            "The celsius value is:  -1.1111111111111112\n",
            "The Kelvin value is:  272.3888888888889\n"
          ],
          "name": "stdout"
        }
      ]
    },
    {
      "cell_type": "markdown",
      "metadata": {
        "id": "GLHuyMcCkTHP",
        "colab_type": "text"
      },
      "source": [
        "Question 6:\n",
        "Write a program to demonstrate all the available data types in Python. Hint: Use type() function."
      ]
    },
    {
      "cell_type": "code",
      "metadata": {
        "id": "R9Py71IFky2K",
        "colab_type": "code",
        "colab": {
          "base_uri": "https://localhost:8080/",
          "height": 136
        },
        "outputId": "2c0d545b-f723-44f4-c781-f48372591177"
      },
      "source": [
        "i=10\n",
        "f=10.2\n",
        "s=\"Hello\"\n",
        "c=10+15j\n",
        "li=[1,2,3,4]\n",
        "tup=(1,2,3,4)\n",
        "dic={1:\"one\", 2:\"two\", 3:\"three\"}\n",
        "print(\"Type of i:\",type(i))\n",
        "print(\"Type of f:\",type(f))\n",
        "print(\"Type of s:\",type(s))\n",
        "print(\"Type of c:\",type(c))\n",
        "print(\"Type of li:\",type(li))\n",
        "print(\"Type of tup:\",type(tup))\n",
        "print(\"Type of dic:\",type(dic))"
      ],
      "execution_count": 23,
      "outputs": [
        {
          "output_type": "stream",
          "text": [
            "Type of i: <class 'int'>\n",
            "Type of f: <class 'float'>\n",
            "Type of s: <class 'str'>\n",
            "Type of c: <class 'complex'>\n",
            "Type of li: <class 'list'>\n",
            "Type of tup: <class 'tuple'>\n",
            "Type of dic: <class 'dict'>\n"
          ],
          "name": "stdout"
        }
      ]
    },
    {
      "cell_type": "markdown",
      "metadata": {
        "id": "GsWB_EBykS2E",
        "colab_type": "text"
      },
      "source": [
        "Question 7:\n",
        "Create a Markdown cell in jupyter and list the steps discussed in the session by Dr. Darshan Ingle sir to create Github profile and upload Githubs Assignment link."
      ]
    },
    {
      "cell_type": "markdown",
      "metadata": {
        "id": "EbbuNaY_tfm3",
        "colab_type": "text"
      },
      "source": [
        "**Steps for creating the GitHub profile and Creating the Repository**\n",
        "\n",
        "1.   Open the GitHub URL: https://github.com/\n",
        "2.   Signup for the guthub and create an account by using already existing google account\n",
        "3.   For creating a new repository click on the New button displayed to the right of the repositories label in the page\n",
        "4.  Enter the name of the repository as LetsUpgrade-AI-ML and description as Assigments and click on submit button\n",
        "5.  Click on the upload already existing file and drag and drop the day3 folder to the location\n",
        "6. open the repository in the incognito mode and check if you are able to see the uploaded file to verify if the repository is public\n",
        "\n",
        "**Steps to Submit the Assginment to LetsUpgrade team**\n",
        "1.   Now open the Google form sent by the Letsupgrade the team Example:\n",
        "2.   List item https://bit.ly/aimlassignment\n",
        "3.   Fill in the required details like email address which is registered  with  the letsupgrade team\n",
        "4.   Enter the Phone Number\n",
        "5.   Choose the Assignment day number\n",
        "6.   Copy and paste the repo URL and click on the submit button\n",
        "7.   Now confirm the submission by checking the email entered in the step 1\n",
        "\n",
        "\n",
        "\n",
        "\n",
        "\n",
        "\n",
        "\n",
        "\n",
        "\n",
        "\n",
        "\n",
        "\n",
        "\n",
        "\n",
        "\n"
      ]
    }
  ]
}