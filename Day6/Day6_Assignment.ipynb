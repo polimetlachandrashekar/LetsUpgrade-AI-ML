{
  "nbformat": 4,
  "nbformat_minor": 0,
  "metadata": {
    "colab": {
      "name": "Untitled0.ipynb",
      "provenance": [],
      "collapsed_sections": []
    },
    "kernelspec": {
      "name": "python3",
      "display_name": "Python 3"
    }
  },
  "cells": [
    {
      "cell_type": "markdown",
      "metadata": {
        "id": "5KHpRPng_nSH",
        "colab_type": "text"
      },
      "source": [
        "**Question1**\n",
        "Assuming that we have some email addresses in the \"username@companyname.com\" format, please write program to print the company name of a given email address. Both user names and company names are composed of letters only.\n",
        "\n",
        "Input Format:\n",
        "The first line of the input contains an email address. \n",
        "\n",
        "Output Format:\n",
        "Print the company name in single line.\n",
        "\n",
        "Example;\n",
        "\n",
        "Input:\n",
        "john@google.com\n",
        "\n",
        "Output:\n",
        "google"
      ]
    },
    {
      "cell_type": "code",
      "metadata": {
        "id": "Il1XeQLv_tJw",
        "colab_type": "code",
        "colab": {
          "base_uri": "https://localhost:8080/",
          "height": 34
        },
        "outputId": "5b79544b-f963-44d0-d2a4-d3e58f7be42f"
      },
      "source": [
        "s = \" john@google.com\"\n",
        "\n",
        "start = s.find(\"@\")\n",
        "end = s.find(\".\")\n",
        "substring = s[start+1:end]\n",
        "print(substring)"
      ],
      "execution_count": 5,
      "outputs": [
        {
          "output_type": "stream",
          "text": [
            "google\n"
          ],
          "name": "stdout"
        }
      ]
    },
    {
      "cell_type": "markdown",
      "metadata": {
        "id": "1fc3miICBNc-",
        "colab_type": "text"
      },
      "source": [
        "**Question2**\n",
        "Write a program that accepts a comma-separated sequence of words as input and prints the words in a comma separated sequence after sorting them alphabetically.\n",
        "\n",
        "Input Format:\n",
        "The first line of input contains words separated by the comma. Output Format:\n",
        "Print the sorted words separated by the comma.\n",
        "\n",
        "Example:\n",
        "\n",
        "Input:\n",
        "without,hello,bag,world\n",
        "\n",
        "Output:\n",
        "bag,hello,without,world"
      ]
    },
    {
      "cell_type": "code",
      "metadata": {
        "id": "prvA6MT0BNCU",
        "colab_type": "code",
        "colab": {
          "base_uri": "https://localhost:8080/",
          "height": 51
        },
        "outputId": "10857bd5-8f62-43c0-db33-c64ad8d34207"
      },
      "source": [
        "wordsinput = input().split(',')\n",
        "li = list(wordsinput)\n",
        "l1 = len(li)\n",
        "\n",
        "y = sorted(li)\n",
        "li = y\n",
        "\n",
        "for i in range (l1):\n",
        "  if i == l1-1:\n",
        "    print(li[i],end=\"\")\n",
        "  else:\n",
        "    print(li[i],end=\",\")"
      ],
      "execution_count": 10,
      "outputs": [
        {
          "output_type": "stream",
          "text": [
            "without,hello,bag,world\n",
            "bag,hello,without,world"
          ],
          "name": "stdout"
        }
      ]
    },
    {
      "cell_type": "markdown",
      "metadata": {
        "id": "Uc6KieufDFW2",
        "colab_type": "text"
      },
      "source": [
        "**Question 4**:\n",
        "Given a list of n-1 numbers ranging from 1 to n, your task is to find the missing number. There are no duplicates.\n",
        "\n",
        "Input Format:\n",
        "The first line contains n-1 numbers with each number separated by a space. \n",
        "\n",
        "Output Format:\n",
        "Print the missing number\n",
        "\n",
        "Example:\n",
        "\n",
        "Input:1 2 4 6 3 7 8\n",
        "\n",
        "Output: \n",
        "5\n",
        "\n",
        "Explanation:\n",
        "In the above list of numbers 5 is missing and hence 5 is the input"
      ]
    },
    {
      "cell_type": "code",
      "metadata": {
        "id": "4T4B4rJPCerk",
        "colab_type": "code",
        "colab": {
          "base_uri": "https://localhost:8080/",
          "height": 34
        },
        "outputId": "5cc15bb1-719a-472b-9e20-fdae0ace8a60"
      },
      "source": [
        "def getMissingNo(list1): \n",
        "    n = len(list1) \n",
        "    total = (n + 1)*(n + 2)/2\n",
        "    sum_of_A = sum(list1) \n",
        "    return total - sum_of_A \n",
        "\n",
        "list1 = [1,2,4,6,3,7,8] \n",
        "miss = getMissingNo(list1) \n",
        "print(int(miss)) "
      ],
      "execution_count": 16,
      "outputs": [
        {
          "output_type": "stream",
          "text": [
            "5\n"
          ],
          "name": "stdout"
        }
      ]
    },
    {
      "cell_type": "markdown",
      "metadata": {
        "id": "48Hc2V56DFqt",
        "colab_type": "text"
      },
      "source": [
        "**Question 5:**\n",
        "\n",
        "With a given list L, write a program to print this list L after removing all duplicate values with original order reserved.\n",
        "\n",
        "Example:\n",
        "If the input list is\n",
        "12 24 35 24 88 120 155 88 120 155\n",
        "\n",
        "Then the output should be 12 24 35 88 120 155\n",
        "\n",
        "Explanation:\n",
        "Third, seventh and ninth element of the list L has been removed because it was already present. Input Format:\n",
        "In one line take the elements of the list L with each element separated by a space.\n",
        "\n",
        "Output Format:\n",
        "Print the elements of the modified list in one line with each element separated by a space. Example:\n",
        "Input: 12 24 35 24\n",
        "Output:\n",
        "12 24 35"
      ]
    },
    {
      "cell_type": "code",
      "metadata": {
        "id": "aHmmSh9yD9kj",
        "colab_type": "code",
        "colab": {
          "base_uri": "https://localhost:8080/",
          "height": 34
        },
        "outputId": "75e1d8e0-f0d3-415d-8750-5655d2bdc203"
      },
      "source": [
        "def Rem(li2): \n",
        "    fl = [] \n",
        "    for num in li2: \n",
        "        if num not in fl: \n",
        "            fl.append(num) \n",
        "    return fl \n",
        "\n",
        "li2 = [12,24,35,24,88,120,155,88,120,155]\n",
        "li3= Rem(li2)\n",
        "print(' '.join(map(str, li3)))"
      ],
      "execution_count": 25,
      "outputs": [
        {
          "output_type": "stream",
          "text": [
            "12 24 35 88 120 155\n"
          ],
          "name": "stdout"
        }
      ]
    },
    {
      "cell_type": "markdown",
      "metadata": {
        "id": "jrzeSmzwGDCo",
        "colab_type": "text"
      },
      "source": [
        "**Question 3:**\n",
        "\n",
        "**Create your own Jupyter Notebook for Sets.**\n",
        "\n",
        "**Reference link: https://www.w3schools.com/python/python_sets.asp**\n"
      ]
    },
    {
      "cell_type": "markdown",
      "metadata": {
        "id": "GVKV-zHiHSAT",
        "colab_type": "text"
      },
      "source": [
        "**Set**\n",
        "\n",
        "A set is a collection which is unordered and unindexed. In Python sets are written with curly brackets."
      ]
    },
    {
      "cell_type": "code",
      "metadata": {
        "id": "g-L1HjenI292",
        "colab_type": "code",
        "colab": {
          "base_uri": "https://localhost:8080/",
          "height": 34
        },
        "outputId": "40346f89-e883-4e41-f519-8e5e823898dd"
      },
      "source": [
        "'''Example\n",
        "Create a Set:'''\n",
        "\n",
        "thisset = {\"apple\", \"banana\", \"cherry\"}\n",
        "print(thisset)"
      ],
      "execution_count": 32,
      "outputs": [
        {
          "output_type": "stream",
          "text": [
            "{'apple', 'banana', 'cherry'}\n"
          ],
          "name": "stdout"
        }
      ]
    },
    {
      "cell_type": "markdown",
      "metadata": {
        "id": "O3z7_4GNHSKe",
        "colab_type": "text"
      },
      "source": [
        "**Note:** Sets are unordered, so you cannot be sure in which order the items will appear."
      ]
    },
    {
      "cell_type": "markdown",
      "metadata": {
        "id": "zXHRO-lQHSTc",
        "colab_type": "text"
      },
      "source": [
        "**Access Items**\n",
        "\n",
        "You cannot access items in a set by referring to an index, since sets are unordered the items has no index.\n",
        "\n",
        "But you can loop through the set items using a for loop, or ask if a specified value is present in a set, by using the in keyword."
      ]
    },
    {
      "cell_type": "code",
      "metadata": {
        "id": "PuxUx0fmI3E8",
        "colab_type": "code",
        "colab": {
          "base_uri": "https://localhost:8080/",
          "height": 68
        },
        "outputId": "a9033296-3719-4f12-dea2-e5489cdd8fcc"
      },
      "source": [
        "'''Example\n",
        "Loop through the set, and print the values:'''\n",
        "\n",
        "thisset = {\"apple\", \"banana\", \"cherry\"}\n",
        "for x in thisset:\n",
        "  print(x)"
      ],
      "execution_count": 33,
      "outputs": [
        {
          "output_type": "stream",
          "text": [
            "apple\n",
            "banana\n",
            "cherry\n"
          ],
          "name": "stdout"
        }
      ]
    },
    {
      "cell_type": "code",
      "metadata": {
        "id": "tT918wFsI07E",
        "colab_type": "code",
        "colab": {
          "base_uri": "https://localhost:8080/",
          "height": 34
        },
        "outputId": "427432c7-e3a5-4770-e9d8-151ab1fc9d7b"
      },
      "source": [
        "'''Example\n",
        "Check if \"banana\" is present in the set:'''\n",
        "\n",
        "thisset = {\"apple\", \"banana\", \"cherry\"}\n",
        "print(\"banana\" in thisset)"
      ],
      "execution_count": 34,
      "outputs": [
        {
          "output_type": "stream",
          "text": [
            "True\n"
          ],
          "name": "stdout"
        }
      ]
    },
    {
      "cell_type": "markdown",
      "metadata": {
        "id": "dK71XoxgHSd2",
        "colab_type": "text"
      },
      "source": [
        "**Change Items**\n",
        "\n",
        "Once a set is created, you cannot change its items, but you can add new items."
      ]
    },
    {
      "cell_type": "markdown",
      "metadata": {
        "id": "Ajm_XGM4HSq_",
        "colab_type": "text"
      },
      "source": [
        "**Add Items**\n",
        "\n",
        "To add one item to a set use the add() method.\n",
        "\n",
        "To add more than one item to a set use the update() method."
      ]
    },
    {
      "cell_type": "code",
      "metadata": {
        "id": "TpOYlM_xI1CQ",
        "colab_type": "code",
        "colab": {
          "base_uri": "https://localhost:8080/",
          "height": 34
        },
        "outputId": "6177fef3-c754-418b-c936-65517c44210e"
      },
      "source": [
        "'''Example\n",
        "Add an item to a set, using the add() method:'''\n",
        "\n",
        "thisset = {\"apple\", \"banana\", \"cherry\"}\n",
        "thisset.add(\"orange\")\n",
        "print(thisset)"
      ],
      "execution_count": 35,
      "outputs": [
        {
          "output_type": "stream",
          "text": [
            "{'orange', 'apple', 'banana', 'cherry'}\n"
          ],
          "name": "stdout"
        }
      ]
    },
    {
      "cell_type": "code",
      "metadata": {
        "id": "DqsEq-d1I1JJ",
        "colab_type": "code",
        "colab": {
          "base_uri": "https://localhost:8080/",
          "height": 34
        },
        "outputId": "fda5dd12-f2a2-4782-ddd3-dba8e65538ba"
      },
      "source": [
        "'''Example\n",
        "Add multiple items to a set, using the update() method:'''\n",
        "\n",
        "thisset = {\"apple\", \"banana\", \"cherry\"}\n",
        "thisset.update([\"orange\", \"mango\", \"grapes\"])\n",
        "print(thisset)"
      ],
      "execution_count": 36,
      "outputs": [
        {
          "output_type": "stream",
          "text": [
            "{'grapes', 'banana', 'mango', 'cherry', 'orange', 'apple'}\n"
          ],
          "name": "stdout"
        }
      ]
    },
    {
      "cell_type": "markdown",
      "metadata": {
        "id": "LoB7n8elHZzX",
        "colab_type": "text"
      },
      "source": [
        "**Get the Length of a Set**\n",
        "\n",
        "To determine how many items a set has, use the len() method."
      ]
    },
    {
      "cell_type": "code",
      "metadata": {
        "id": "fA1SeAOtI1Pg",
        "colab_type": "code",
        "colab": {
          "base_uri": "https://localhost:8080/",
          "height": 34
        },
        "outputId": "2e71bff4-d7d2-416a-9991-27048b14488e"
      },
      "source": [
        "'''Example\n",
        "Get the number of items in a set:'''\n",
        "\n",
        "thisset = {\"apple\", \"banana\", \"cherry\"}\n",
        "print(len(thisset))"
      ],
      "execution_count": 37,
      "outputs": [
        {
          "output_type": "stream",
          "text": [
            "3\n"
          ],
          "name": "stdout"
        }
      ]
    },
    {
      "cell_type": "markdown",
      "metadata": {
        "id": "p8WjOKX-HZ_0",
        "colab_type": "text"
      },
      "source": [
        "**Remove Item**\n",
        "\n",
        "To remove an item in a set, use the remove(), or the discard() method."
      ]
    },
    {
      "cell_type": "code",
      "metadata": {
        "id": "TvSKXLEHI1WH",
        "colab_type": "code",
        "colab": {
          "base_uri": "https://localhost:8080/",
          "height": 34
        },
        "outputId": "86eb0792-4ef1-4904-f275-e9dc22446057"
      },
      "source": [
        "'''Example\n",
        "Remove \"banana\" by using the remove() method:'''\n",
        "\n",
        "thisset = {\"apple\", \"banana\", \"cherry\"}\n",
        "thisset.remove(\"banana\")\n",
        "print(thisset)"
      ],
      "execution_count": 38,
      "outputs": [
        {
          "output_type": "stream",
          "text": [
            "{'apple', 'cherry'}\n"
          ],
          "name": "stdout"
        }
      ]
    },
    {
      "cell_type": "markdown",
      "metadata": {
        "id": "Z4-yTn_uIJ6s",
        "colab_type": "text"
      },
      "source": [
        "**Note:** If the item to remove does not exist, remove() will raise an error."
      ]
    },
    {
      "cell_type": "code",
      "metadata": {
        "id": "H1rC0v3OI1c-",
        "colab_type": "code",
        "colab": {
          "base_uri": "https://localhost:8080/",
          "height": 34
        },
        "outputId": "f9e63431-efce-4de1-86b3-5aa037c84907"
      },
      "source": [
        "'''Example\n",
        "Remove \"banana\" by using the discard() method:'''\n",
        "\n",
        "thisset = {\"apple\", \"banana\", \"cherry\"}\n",
        "thisset.discard(\"banana\")\n",
        "print(thisset)"
      ],
      "execution_count": 39,
      "outputs": [
        {
          "output_type": "stream",
          "text": [
            "{'apple', 'cherry'}\n"
          ],
          "name": "stdout"
        }
      ]
    },
    {
      "cell_type": "markdown",
      "metadata": {
        "id": "I5fe0nQ8IKZo",
        "colab_type": "text"
      },
      "source": [
        "**Note:** If the item to remove does not exist, discard() will NOT raise an \n",
        "error.\n",
        "\n",
        "You can also use the pop(), method to remove an item, but this method will remove the last item. Remember that sets are unordered, so you will not know what item that gets removed.\n",
        "\n",
        "The return value of the pop() method is the removed item."
      ]
    },
    {
      "cell_type": "code",
      "metadata": {
        "id": "qXnCwcEZI1kk",
        "colab_type": "code",
        "colab": {
          "base_uri": "https://localhost:8080/",
          "height": 51
        },
        "outputId": "1d60ac7f-ef32-4463-92ff-0a213ce79f40"
      },
      "source": [
        "'''Example\n",
        "Remove the last item by using the pop() method:'''\n",
        "\n",
        "thisset = {\"apple\", \"banana\", \"cherry\"}\n",
        "x = thisset.pop()\n",
        "print(x)\n",
        "print(thisset)"
      ],
      "execution_count": 41,
      "outputs": [
        {
          "output_type": "stream",
          "text": [
            "apple\n",
            "{'banana', 'cherry'}\n"
          ],
          "name": "stdout"
        }
      ]
    },
    {
      "cell_type": "markdown",
      "metadata": {
        "id": "JDA6WP-tIKl7",
        "colab_type": "text"
      },
      "source": [
        "**Note:** Sets are unordered, so when using the pop() method, you will not know which item that gets removed."
      ]
    },
    {
      "cell_type": "code",
      "metadata": {
        "id": "godYXYZdI2tW",
        "colab_type": "code",
        "colab": {
          "base_uri": "https://localhost:8080/",
          "height": 34
        },
        "outputId": "e9a093b2-0116-4c65-f007-de16a56fa0dc"
      },
      "source": [
        "'''Example\n",
        "The clear() method empties the set:'''\n",
        "\n",
        "thisset = {\"apple\", \"banana\", \"cherry\"}\n",
        "thisset.clear()\n",
        "print(thisset)\n"
      ],
      "execution_count": 29,
      "outputs": [
        {
          "output_type": "stream",
          "text": [
            "set()\n"
          ],
          "name": "stdout"
        }
      ]
    },
    {
      "cell_type": "code",
      "metadata": {
        "id": "noP9nZP-I21O",
        "colab_type": "code",
        "colab": {
          "base_uri": "https://localhost:8080/",
          "height": 198
        },
        "outputId": "b10e3c24-837f-43f5-8da2-96324fd3dc92"
      },
      "source": [
        "'''Example\n",
        "The del keyword will delete the set completely:'''\n",
        "\n",
        "thisset1 = {\"apple\", \"banana\", \"cherry\"}\n",
        "del thisset1\n",
        "print(thisset1)\n"
      ],
      "execution_count": 31,
      "outputs": [
        {
          "output_type": "error",
          "ename": "NameError",
          "evalue": "ignored",
          "traceback": [
            "\u001b[0;31m---------------------------------------------------------------------------\u001b[0m",
            "\u001b[0;31mNameError\u001b[0m                                 Traceback (most recent call last)",
            "\u001b[0;32m<ipython-input-31-0deca63385bd>\u001b[0m in \u001b[0;36m<module>\u001b[0;34m()\u001b[0m\n\u001b[1;32m      6\u001b[0m \u001b[0;32mdel\u001b[0m \u001b[0mthisset1\u001b[0m\u001b[0;34m\u001b[0m\u001b[0;34m\u001b[0m\u001b[0m\n\u001b[1;32m      7\u001b[0m \u001b[0;34m\u001b[0m\u001b[0m\n\u001b[0;32m----> 8\u001b[0;31m \u001b[0mprint\u001b[0m\u001b[0;34m(\u001b[0m\u001b[0mthisset1\u001b[0m\u001b[0;34m)\u001b[0m\u001b[0;34m\u001b[0m\u001b[0;34m\u001b[0m\u001b[0m\n\u001b[0m",
            "\u001b[0;31mNameError\u001b[0m: name 'thisset1' is not defined"
          ]
        }
      ]
    },
    {
      "cell_type": "markdown",
      "metadata": {
        "id": "4orPEgk9IKyg",
        "colab_type": "text"
      },
      "source": [
        "**Join Two Sets**\n",
        "\n",
        "There are several ways to join two or more sets in Python.\n",
        "\n",
        "You can use the union() method that returns a new set containing all items from both sets, or the update() method that inserts all the items from one set into another:"
      ]
    },
    {
      "cell_type": "code",
      "metadata": {
        "id": "7w7IAt2AI2kt",
        "colab_type": "code",
        "colab": {
          "base_uri": "https://localhost:8080/",
          "height": 34
        },
        "outputId": "00485ef7-27b2-4f32-a61d-7057119c131b"
      },
      "source": [
        "'''Example\n",
        "The union() method returns a new set with all items from both sets:'''\n",
        "\n",
        "set1 = {\"a\", \"b\" , \"c\"}\n",
        "set2 = {1, 2, 3}\n",
        "set3 = set1.union(set2)\n",
        "print(set3)"
      ],
      "execution_count": 28,
      "outputs": [
        {
          "output_type": "stream",
          "text": [
            "{'b', 'a', 1, 2, 3, 'c'}\n"
          ],
          "name": "stdout"
        }
      ]
    },
    {
      "cell_type": "code",
      "metadata": {
        "id": "QePWkNzDI2cd",
        "colab_type": "code",
        "colab": {
          "base_uri": "https://localhost:8080/",
          "height": 34
        },
        "outputId": "d62f1ab7-b57c-43b2-d7d8-d9e3997e012d"
      },
      "source": [
        "'''Example\n",
        "The update() method inserts the items in set2 into set1:'''\n",
        "set1 = {\"a\", \"b\" , \"c\"}\n",
        "set2 = {1, 2, 3}\n",
        "set1.update(set2)\n",
        "print(set1)"
      ],
      "execution_count": 27,
      "outputs": [
        {
          "output_type": "stream",
          "text": [
            "{'b', 'a', 1, 2, 3, 'c'}\n"
          ],
          "name": "stdout"
        }
      ]
    },
    {
      "cell_type": "markdown",
      "metadata": {
        "id": "qzkd_aCjILEA",
        "colab_type": "text"
      },
      "source": [
        "**Note:** Both union() and update() will exclude any duplicate items."
      ]
    },
    {
      "cell_type": "markdown",
      "metadata": {
        "id": "kbhDQsxBILNe",
        "colab_type": "text"
      },
      "source": [
        "**The set() Constructor**\n",
        "\n",
        "It is also possible to use the set() constructor to make a set.\n",
        "\n"
      ]
    },
    {
      "cell_type": "code",
      "metadata": {
        "id": "oOy9B1kvI0wt",
        "colab_type": "code",
        "colab": {
          "base_uri": "https://localhost:8080/",
          "height": 34
        },
        "outputId": "1111c9b2-5415-4e33-9f41-a8f2bb46c233"
      },
      "source": [
        "'''Example\n",
        "Using the set() constructor to make a set:'''\n",
        "thisset = set((\"apple\", \"banana\", \"cherry\")) # note the double round-brackets\n",
        "print(thisset)\n"
      ],
      "execution_count": 26,
      "outputs": [
        {
          "output_type": "stream",
          "text": [
            "{'apple', 'banana', 'cherry'}\n"
          ],
          "name": "stdout"
        }
      ]
    }
  ]
}